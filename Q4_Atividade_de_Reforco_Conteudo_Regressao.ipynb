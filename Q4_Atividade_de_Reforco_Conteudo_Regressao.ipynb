{
 "cells": [
  {
   "cell_type": "markdown",
   "id": "af81ba7b",
   "metadata": {},
   "source": [
    "MSE = (1/n) * Σ(actual – prediction)2 "
   ]
  },
  {
   "cell_type": "code",
   "execution_count": 4,
   "id": "045283c8",
   "metadata": {},
   "outputs": [
    {
     "name": "stdout",
     "output_type": "stream",
     "text": [
      "3.6400000000000006\n"
     ]
    }
   ],
   "source": [
    "import numpy as np\n",
    "#Números originais\n",
    "actual_value_of_y= [3,2,6,1,5]\n",
    "#Números para calcular \n",
    "predicted_value_of_y= [2.0,2.4,2.8,3.2,3.6]\n",
    "#Aplicando a formula \n",
    "MSE = np.square(np.subtract(actual_value_of_y,predicted_value_of_y)).mean()\n",
    "print(MSE)"
   ]
  },
  {
   "cell_type": "markdown",
   "id": "eb468ab0",
   "metadata": {},
   "source": [
    "RMSE = √[ Σ(Pi – Oi)2 / n ]"
   ]
  },
  {
   "cell_type": "code",
   "execution_count": 5,
   "id": "6f865155",
   "metadata": {},
   "outputs": [
    {
     "data": {
      "text/plain": [
       "2.4324199198877374"
      ]
     },
     "execution_count": 5,
     "metadata": {},
     "output_type": "execute_result"
    }
   ],
   "source": [
    "from sklearn.metrics import mean_squared_error\n",
    "from math import sqrt\n",
    "\n",
    "actual= [34, 37, 44, 47, 48, 48, 46, 43, 32, 27, 26, 24]\n",
    "pred = [37, 40, 46, 44, 46, 50, 45, 44, 34, 30, 22, 23]\n",
    "\n",
    "sqrt(mean_squared_error(actual, pred))"
   ]
  },
  {
   "cell_type": "markdown",
   "id": "93b09928",
   "metadata": {},
   "source": [
    "MAPE = (1/n) * Σ(|actual – prediction| / |actual|) * 100"
   ]
  },
  {
   "cell_type": "code",
   "execution_count": 6,
   "id": "f7061103",
   "metadata": {},
   "outputs": [
    {
     "data": {
      "text/plain": [
       "10.800865800865802"
      ]
     },
     "execution_count": 6,
     "metadata": {},
     "output_type": "execute_result"
    }
   ],
   "source": [
    "import numpy as np\n",
    "\n",
    "actual = [12, 13, 14, 15, 15,22, 27]\n",
    "pred = [11, 13, 14, 14, 15, 16, 18]\n",
    "\n",
    "def mape(actual, pred): \n",
    "    actual, pred = np.array(actual), np.array(pred)\n",
    "    return np.mean(np.abs((actual - pred) / actual)) * 100\n",
    "\n",
    "mape(actual, pred)"
   ]
  }
 ],
 "metadata": {
  "kernelspec": {
   "display_name": "Python 3",
   "language": "python",
   "name": "python3"
  },
  "language_info": {
   "codemirror_mode": {
    "name": "ipython",
    "version": 3
   },
   "file_extension": ".py",
   "mimetype": "text/x-python",
   "name": "python",
   "nbconvert_exporter": "python",
   "pygments_lexer": "ipython3",
   "version": "3.8.8"
  }
 },
 "nbformat": 4,
 "nbformat_minor": 5
}
