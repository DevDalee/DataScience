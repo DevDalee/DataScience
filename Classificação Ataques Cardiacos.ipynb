{
 "cells": [
  {
   "cell_type": "markdown",
   "metadata": {},
   "source": [
    "# Analise e Predições de Ataques Cardiacos"
   ]
  },
  {
   "cell_type": "markdown",
   "metadata": {},
   "source": [
    "Um ataque cardíaco ocorre quando os músculos do coração não recebem oxigênio suficiente devido a um bloqueio em uma ou mais artérias coronárias. Esses bloqueios são basicamente o acúmulo de placa que consiste em gorduras, colesterol, etc. O músculo cardíaco que perdeu o suprimento de sangue eventualmente morre e esta condição é muito perigosa e fatal.\n",
    "Neste estudo vamos investigar a probabilidade de uma pessoa ter ataque cardiaco."
   ]
  },
  {
   "cell_type": "markdown",
   "metadata": {},
   "source": [
    "Neste Exércicio iremos abordar os seguintes tópicos:\n",
    "- Analise Exploratoria\n",
    "- Fazer modelos SVM, RF e RegLog para classificar o contexto\n",
    "- Melhorar os modelos com base  no Hiperparametros\n",
    "\n",
    "Faça o que se pede em cada bloco comentado ⚠⚠⚠ !"
   ]
  },
  {
   "cell_type": "markdown",
   "metadata": {},
   "source": [
    "### Descrição do dataset <https://www.kaggle.com/rashikrahmanpritom/heart-attack-analysis-prediction-dataset>\n",
    "    \n",
    "<p style=\"font-family: 'Poppins', sans-serif; font-weight:300; font-size: 16px\">\n",
    "1. Age : Age of the patient<br>\n",
    "2. Sex : Sex of the patient<br>\n",
    "3. exang: exercise induced angina (1 = yes; 0 = no)<br>\n",
    "4. ca: number of major vessels (0-3)<br><br>\n",
    "5. cp : Chest Pain type chest pain type<br><br>\n",
    "Value 0: typical angina<br>\n",
    "Value 1: atypical angina<br>\n",
    "Value 2: non-anginal pain<br>\n",
    "Value 3: asymptomatic<br><br>\n",
    "6. trtbps : resting blood pressure (in mm Hg)<br>\n",
    "7. chol : cholestoral in mg/dl fetched via BMI sensor<br>\n",
    "8. fbs : (fasting blood sugar > 120 mg/dl) (1 = true; 0 = false)<br><br>\n",
    "9. rest_ecg : resting electrocardiographic results<br><br>\n",
    "Value 0: normal<br>\n",
    "Value 1: having ST-T wave abnormality (T wave inversions and/or ST elevation or depression of > 0.05 mV)<br>\n",
    "Value 2: showing probable or definite left ventricular hypertrophy by Estes' criteria<br><br>\n",
    "10. thalach : maximum heart rate achieved<br>\n",
    "11. target : 0= less chance of heart attack 1= more chance of heart attack<br>\n",
    "12. thall: Thalium Stress Test result ~ (0,3)<br>\n",
    "13. slp: Slope</p>"
   ]
  },
  {
   "cell_type": "code",
   "execution_count": 3,
   "metadata": {},
   "outputs": [
    {
     "name": "stdout",
     "output_type": "stream",
     "text": [
      "Versão da Linguagem Python Usada Neste Jupyter Notebook: 3.8.8\n"
     ]
    }
   ],
   "source": [
    "# Versão da Linguagem Python\n",
    "from platform import python_version\n",
    "print('Versão da Linguagem Python Usada Neste Jupyter Notebook:', python_version())"
   ]
  },
  {
   "cell_type": "markdown",
   "metadata": {},
   "source": [
    "# 1. Análise exploratória de dados"
   ]
  },
  {
   "cell_type": "code",
   "execution_count": 1,
   "metadata": {
    "execution": {
     "iopub.execute_input": "2021-06-05T16:24:47.591338Z",
     "iopub.status.busy": "2021-06-05T16:24:47.590954Z",
     "iopub.status.idle": "2021-06-05T16:24:47.598445Z",
     "shell.execute_reply": "2021-06-05T16:24:47.597425Z",
     "shell.execute_reply.started": "2021-06-05T16:24:47.591303Z"
    }
   },
   "outputs": [],
   "source": [
    "# Importando os módulos\n",
    "import numpy as np \n",
    "import pandas as pd \n",
    "import matplotlib.pyplot as plt\n",
    "import seaborn as sns\n",
    "\n",
    "import os\n",
    "for dirname, _, filenames in os.walk('/kaggle/input'):\n",
    "    for filename in filenames:\n",
    "        print(os.path.join(dirname, filename))"
   ]
  },
  {
   "cell_type": "code",
   "execution_count": 2,
   "metadata": {
    "execution": {
     "iopub.execute_input": "2021-06-05T16:24:47.630578Z",
     "iopub.status.busy": "2021-06-05T16:24:47.63019Z",
     "iopub.status.idle": "2021-06-05T16:24:47.640813Z",
     "shell.execute_reply": "2021-06-05T16:24:47.639838Z",
     "shell.execute_reply.started": "2021-06-05T16:24:47.630543Z"
    }
   },
   "outputs": [],
   "source": [
    "# Carregando o dataset\n"
   ]
  },
  {
   "cell_type": "markdown",
   "metadata": {},
   "source": [
    "<p style=\"font-family: 'Poppins', sans-serif; text-align: left; font-size: 16px; font-weight:300\">A coluna OUTPUT é o nosso target.</p>"
   ]
  },
  {
   "cell_type": "markdown",
   "metadata": {},
   "source": [
    "### ⚠ Verifique se há dados duplicados, caso positivo remova as duplicatas e reset os index"
   ]
  },
  {
   "cell_type": "code",
   "execution_count": null,
   "metadata": {},
   "outputs": [],
   "source": []
  },
  {
   "cell_type": "markdown",
   "metadata": {},
   "source": [
    "### ⚠ Exiba uma figura identificando a correlação entre todas as variáveis."
   ]
  },
  {
   "cell_type": "code",
   "execution_count": null,
   "metadata": {},
   "outputs": [],
   "source": []
  },
  {
   "cell_type": "markdown",
   "metadata": {},
   "source": [
    "## 2. Processando os dados"
   ]
  },
  {
   "cell_type": "markdown",
   "metadata": {},
   "source": [
    "### ⚠ Separe as caracteristicas da target e posteriormente faça a divisão de treino e teste com 20% ou 30% dos dados para teste"
   ]
  },
  {
   "cell_type": "code",
   "execution_count": null,
   "metadata": {},
   "outputs": [],
   "source": []
  },
  {
   "cell_type": "markdown",
   "metadata": {},
   "source": [
    "## 3. Construindo e treinando o modelo"
   ]
  },
  {
   "cell_type": "markdown",
   "metadata": {},
   "source": [
    "### - Logistic Regression (Exemplo)"
   ]
  },
  {
   "cell_type": "code",
   "execution_count": 3,
   "metadata": {
    "execution": {
     "iopub.execute_input": "2021-06-05T16:24:53.255252Z",
     "iopub.status.busy": "2021-06-05T16:24:53.25481Z",
     "iopub.status.idle": "2021-06-05T16:24:53.262879Z",
     "shell.execute_reply": "2021-06-05T16:24:53.261784Z",
     "shell.execute_reply.started": "2021-06-05T16:24:53.255203Z"
    }
   },
   "outputs": [],
   "source": [
    "from sklearn.linear_model import LogisticRegression\n",
    "from sklearn.metrics import confusion_matrix, classification_report\n",
    "from sklearn.metrics import accuracy_score"
   ]
  },
  {
   "cell_type": "code",
   "execution_count": 4,
   "metadata": {
    "execution": {
     "iopub.execute_input": "2021-06-05T16:24:53.264294Z",
     "iopub.status.busy": "2021-06-05T16:24:53.264019Z",
     "iopub.status.idle": "2021-06-05T16:24:53.273152Z",
     "shell.execute_reply": "2021-06-05T16:24:53.272312Z",
     "shell.execute_reply.started": "2021-06-05T16:24:53.264267Z"
    }
   },
   "outputs": [],
   "source": [
    "logmodel = LogisticRegression()"
   ]
  },
  {
   "cell_type": "code",
   "execution_count": null,
   "metadata": {
    "execution": {
     "iopub.execute_input": "2021-06-05T16:24:53.274516Z",
     "iopub.status.busy": "2021-06-05T16:24:53.274131Z",
     "iopub.status.idle": "2021-06-05T16:24:53.291417Z",
     "shell.execute_reply": "2021-06-05T16:24:53.290426Z",
     "shell.execute_reply.started": "2021-06-05T16:24:53.274488Z"
    }
   },
   "outputs": [],
   "source": [
    "logmodel.fit(X_train, y_train)\n",
    "predictions1 = logmodel.predict(X_test)"
   ]
  },
  {
   "cell_type": "code",
   "execution_count": 64,
   "metadata": {
    "execution": {
     "iopub.execute_input": "2021-06-05T16:24:53.293072Z",
     "iopub.status.busy": "2021-06-05T16:24:53.292723Z",
     "iopub.status.idle": "2021-06-05T16:24:53.304855Z",
     "shell.execute_reply": "2021-06-05T16:24:53.303879Z",
     "shell.execute_reply.started": "2021-06-05T16:24:53.293031Z"
    }
   },
   "outputs": [
    {
     "name": "stdout",
     "output_type": "stream",
     "text": [
      "Confusion Matrix: \n",
      " [[33  9]\n",
      " [ 8 41]]\n",
      "\n",
      "\n",
      "              precision    recall  f1-score   support\n",
      "\n",
      "           0       0.80      0.79      0.80        42\n",
      "           1       0.82      0.84      0.83        49\n",
      "\n",
      "    accuracy                           0.81        91\n",
      "   macro avg       0.81      0.81      0.81        91\n",
      "weighted avg       0.81      0.81      0.81        91\n",
      "\n"
     ]
    }
   ],
   "source": [
    "print(\"Confusion Matrix: \\n\", confusion_matrix(y_test, predictions1))\n",
    "print('\\n')\n",
    "print(classification_report(y_test, predictions1))"
   ]
  },
  {
   "cell_type": "code",
   "execution_count": 65,
   "metadata": {
    "execution": {
     "iopub.execute_input": "2021-06-05T16:24:53.306938Z",
     "iopub.status.busy": "2021-06-05T16:24:53.306512Z",
     "iopub.status.idle": "2021-06-05T16:24:53.313543Z",
     "shell.execute_reply": "2021-06-05T16:24:53.312403Z",
     "shell.execute_reply.started": "2021-06-05T16:24:53.306879Z"
    }
   },
   "outputs": [
    {
     "name": "stdout",
     "output_type": "stream",
     "text": [
      "Accuracy of the Logistic Regression Model is:  0.8131868131868132\n"
     ]
    }
   ],
   "source": [
    "logmodel_acc = accuracy_score(y_test, predictions1)\n",
    "print(\"Accuracy of the Logistic Regression Model is: \", logmodel_acc)"
   ]
  },
  {
   "cell_type": "markdown",
   "metadata": {},
   "source": [
    "### ⚠ - Execute e exiba os mesmo resultados anteriosres utilizando o algoritmo Random Forest"
   ]
  },
  {
   "cell_type": "code",
   "execution_count": 6,
   "metadata": {
    "execution": {
     "iopub.execute_input": "2021-06-05T16:24:53.857005Z",
     "iopub.status.busy": "2021-06-05T16:24:53.856583Z",
     "iopub.status.idle": "2021-06-05T16:24:53.869372Z",
     "shell.execute_reply": "2021-06-05T16:24:53.868401Z",
     "shell.execute_reply.started": "2021-06-05T16:24:53.856965Z"
    }
   },
   "outputs": [],
   "source": [
    "#Dica\n",
    "from sklearn.ensemble import RandomForestClassifier"
   ]
  },
  {
   "cell_type": "markdown",
   "metadata": {},
   "source": [
    "### ⚠ - Tente melhorar a acurácio do random Forest utilizando o Grid Search"
   ]
  },
  {
   "cell_type": "code",
   "execution_count": 7,
   "metadata": {},
   "outputs": [],
   "source": [
    "#Dica\n",
    "from sklearn.model_selection import GridSearchCV\n",
    "param_grid = {\n",
    "    \"max_depth\": [3, 4, 5, 6, 7],\n",
    "    \"max_features\": [\"auto\", \"sqrt\"],\n",
    "    \"n_estimators\": [20,35, 50,75, 100]\n",
    "}"
   ]
  },
  {
   "cell_type": "code",
   "execution_count": null,
   "metadata": {},
   "outputs": [],
   "source": []
  },
  {
   "cell_type": "markdown",
   "metadata": {},
   "source": [
    "### ⚠ - Execute e exiba os mesmo resultados anteriosres utilizando o algoritmo Support Vector Machines (SVM)"
   ]
  },
  {
   "cell_type": "code",
   "execution_count": 8,
   "metadata": {
    "execution": {
     "iopub.execute_input": "2021-06-05T16:24:54.102967Z",
     "iopub.status.busy": "2021-06-05T16:24:54.102643Z",
     "iopub.status.idle": "2021-06-05T16:24:54.111585Z",
     "shell.execute_reply": "2021-06-05T16:24:54.110334Z",
     "shell.execute_reply.started": "2021-06-05T16:24:54.102938Z"
    }
   },
   "outputs": [],
   "source": [
    "#Dica\n",
    "from sklearn.svm import SVC"
   ]
  },
  {
   "cell_type": "code",
   "execution_count": null,
   "metadata": {},
   "outputs": [],
   "source": []
  },
  {
   "cell_type": "markdown",
   "metadata": {},
   "source": [
    "### ⚠ - Tente melhorar a acurácio do SVM utilizando o Grid Search"
   ]
  },
  {
   "cell_type": "code",
   "execution_count": 11,
   "metadata": {
    "execution": {
     "iopub.execute_input": "2021-06-05T16:24:54.140623Z",
     "iopub.status.busy": "2021-06-05T16:24:54.140335Z",
     "iopub.status.idle": "2021-06-05T16:24:54.144923Z",
     "shell.execute_reply": "2021-06-05T16:24:54.143906Z",
     "shell.execute_reply.started": "2021-06-05T16:24:54.140595Z"
    }
   },
   "outputs": [],
   "source": [
    "#Dica\n",
    "from sklearn.model_selection import GridSearchCV\n",
    "param_grid = {'C':[0.1,1,10,100,1000], 'gamma':[1,0.1,0.01,0.001,0.0001]}"
   ]
  },
  {
   "cell_type": "code",
   "execution_count": null,
   "metadata": {},
   "outputs": [],
   "source": []
  },
  {
   "cell_type": "markdown",
   "metadata": {},
   "source": [
    "### ⚠ - Liste os seus melhores resultados para cada algoritmo e compare com os resultados apresentados abaixo!"
   ]
  },
  {
   "cell_type": "code",
   "execution_count": null,
   "metadata": {},
   "outputs": [],
   "source": []
  },
  {
   "cell_type": "markdown",
   "metadata": {},
   "source": [
    "# 4. Resultados"
   ]
  },
  {
   "cell_type": "code",
   "execution_count": 41,
   "metadata": {
    "execution": {
     "iopub.execute_input": "2021-06-05T16:24:54.866271Z",
     "iopub.status.busy": "2021-06-05T16:24:54.865869Z",
     "iopub.status.idle": "2021-06-05T16:24:54.877266Z",
     "shell.execute_reply": "2021-06-05T16:24:54.876201Z",
     "shell.execute_reply.started": "2021-06-05T16:24:54.866224Z"
    }
   },
   "outputs": [
    {
     "name": "stdout",
     "output_type": "stream",
     "text": [
      "Accuracy of Logistic Regression Model is:  81.31868131868131 %\n",
      "Accuracy of Random Forests Model is:  85.71428571428571 %\n",
      "Accuracy of SVM Model is:  80.21978021978022 %\n"
     ]
    }
   ],
   "source": [
    "print(\"Accuracy of Logistic Regression Model is: \",logmodel_acc*100,\"%\")\n",
    "print(\"Accuracy of Random Forests Model is: \",rfc_acc*100,\"%\")\n",
    "print(\"Accuracy of SVM Model is: \",svm_acc*100,\"%\")"
   ]
  },
  {
   "cell_type": "code",
   "execution_count": 42,
   "metadata": {
    "execution": {
     "iopub.execute_input": "2021-06-05T16:24:54.879275Z",
     "iopub.status.busy": "2021-06-05T16:24:54.878846Z",
     "iopub.status.idle": "2021-06-05T16:24:55.071378Z",
     "shell.execute_reply": "2021-06-05T16:24:55.070298Z",
     "shell.execute_reply.started": "2021-06-05T16:24:54.879234Z"
    }
   },
   "outputs": [
    {
     "data": {
      "text/plain": [
       "<AxesSubplot:>"
      ]
     },
     "execution_count": 42,
     "metadata": {},
     "output_type": "execute_result"
    },
    {
     "data": {
      "image/png": "[encoded data removed]",
      "text/plain": [
       "<Figure size 864x432 with 1 Axes>"
      ]
     },
     "metadata": {
      "needs_background": "light"
     },
     "output_type": "display_data"
    }
   ],
   "source": [
    "plt.figure(figsize=(12,6))\n",
    "model_acc = [logmodel_acc, rfc_acc, svm_acc]\n",
    "name_of_model = ['LogisticRegression', 'RandomForests', 'SVM']\n",
    "sns.barplot(x= model_acc, y=name_of_model, palette='Spectral')"
   ]
  }
 ],
 "metadata": {
  "kernelspec": {
   "display_name": "Python 3",
   "language": "python",
   "name": "python3"
  },
  "language_info": {
   "codemirror_mode": {
    "name": "ipython",
    "version": 3
   },
   "file_extension": ".py",
   "mimetype": "text/x-python",
   "name": "python",
   "nbconvert_exporter": "python",
   "pygments_lexer": "ipython3",
   "version": "3.8.8"
  }
 },
 "nbformat": 4,
 "nbformat_minor": 4
}
