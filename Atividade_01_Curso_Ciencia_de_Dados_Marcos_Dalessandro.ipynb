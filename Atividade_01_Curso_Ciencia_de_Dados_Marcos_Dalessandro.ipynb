{
  "nbformat": 4,
  "nbformat_minor": 0,
  "metadata": {
    "colab": {
      "name": "Atividade 01 - Curso Ciencia de Dados - Marcos Dalessandro.ipynb",
      "provenance": [],
      "collapsed_sections": []
    },
    "kernelspec": {
      "name": "python3",
      "display_name": "Python 3"
    },
    "language_info": {
      "name": "python"
    }
  },
  "cells": [
    {
      "cell_type": "code",
      "metadata": {
        "id": "s-c-8tDdUM-C"
      },
      "source": [
        "# Crie um array NumPy com 1000000 e uma lista com 1000000.\n",
        "# Multiplique cada elemento do array e da lista por 2 e calcule o tempo de execução com cada um dos objetos (use %time).\n",
        "# Qual objeto oferece melhor performance, array NumPy ou lista?\n",
        "import numpy as np\n",
        "array = np.arange(1000000)\n",
        "array*2\n",
        "%time"
      ],
      "execution_count": null,
      "outputs": []
    },
    {
      "cell_type": "code",
      "metadata": {
        "id": "4HZ8-VUZcNGj"
      },
      "source": [
        "# Crie um array NumPy com 1000000 e uma lista com 1000000.\n",
        "# Multiplique cada elemento do array e da lista por 2 e calcule o tempo de execução com cada um dos objetos (use %time).\n",
        "# Qual objeto oferece melhor performance, array NumPy ou lista?\n",
        "import numpy as np\n",
        "lista = list(range(1000000)) \n",
        "for a in lista: \n",
        "  lista[a]*2\n",
        "%time"
      ],
      "execution_count": null,
      "outputs": []
    },
    {
      "cell_type": "code",
      "metadata": {
        "id": "V3HbC1USfOAq"
      },
      "source": [
        "# Crie um array de 10 elementos\n",
        "# Altere o valores de todos os elementos dos índices 5 a 8 para 0\n",
        "import numpy as np\n",
        "a = np.arange(10)\n",
        "a[5:9] = 0\n",
        "a"
      ],
      "execution_count": null,
      "outputs": []
    },
    {
      "cell_type": "code",
      "metadata": {
        "id": "fmdDkbGwmMOY"
      },
      "source": [
        "# Crie um array de 3 dimensões e imprima a dimensão 1 \n",
        "import numpy as np\n",
        "a = np.array([[[1,2,3],[4,5,6],[7,8,9],[10,11,12],[13,14,15],[16,17,18]]])\n",
        "print(a[0,0,:], a[0,1,:])"
      ],
      "execution_count": null,
      "outputs": []
    },
    {
      "cell_type": "code",
      "metadata": {
        "id": "Bss0u2bnqbKi"
      },
      "source": [
        "# Crie um array de duas dimensões (matriz).\n",
        "# Imprima os elementos da terceira linha da matriz\n",
        "# Imprima todos os elementos da primeira e segunda linhas e segunda e terceira colunas\n",
        "\n",
        "import numpy as np\n",
        "a = np.array([[1,2,3],[4,5,6]])\n",
        "print(a[:,2])\n",
        "print(a[0,:])\n",
        "print(a[1,:])\n"
      ],
      "execution_count": null,
      "outputs": []
    },
    {
      "cell_type": "code",
      "metadata": {
        "id": "a7ddIqMMLHR0"
      },
      "source": [
        "# Calcule a transposta da matriz abaixo\n",
        "import numpy as np\n",
        "arr = np.array([i for i in range(15)]).reshape((3,5))\n",
        "print(arr.T)"
      ],
      "execution_count": null,
      "outputs": []
    },
    {
      "cell_type": "code",
      "metadata": {
        "id": "QCyxjJOCC43u"
      },
      "source": [
        "# Considere os 3 arrays abaixo\n",
        "# Retorne o valor do array xarr   y cond. Caso contrário, retorne o valor do array yarr.\n",
        "import numpy as np\n",
        "xarr = np.array([1.1, 1.2, 1.3, 1.4, 1.5])\n",
        "yarr = np.array([2.1, 2.2, 2.3, 2.4, 2.5])\n",
        "cond = np.array([True, False, True, True, False])"
      ],
      "execution_count": null,
      "outputs": []
    },
    {
      "cell_type": "code",
      "metadata": {
        "id": "iwIG2RoXFNRI"
      },
      "source": [
        "print(xarr[cond])"
      ],
      "execution_count": null,
      "outputs": []
    },
    {
      "cell_type": "code",
      "metadata": {
        "id": "Fs6vXMSJFLwv"
      },
      "source": [
        "print(yarr[~cond])"
      ],
      "execution_count": null,
      "outputs": []
    },
    {
      "cell_type": "code",
      "metadata": {
        "id": "fDqU9pB6Hbwb"
      },
      "source": [
        "# Crie um array A com 10 elementos e salve o array em disco com a extensão npy\n",
        "# Depois carregue o array do disco no array B\n",
        "import numpy as np\n",
        "a = np.arange(10)\n",
        "np.save(\"Array.npy\", a)\n",
        "Array = np.load(\"Array.npy\")\n",
        "Array"
      ],
      "execution_count": null,
      "outputs": []
    },
    {
      "cell_type": "code",
      "metadata": {
        "id": "K8GQ6HCRFObN"
      },
      "source": [
        "# Considerando a série abaixo, imprima os valores únicos na série\n",
        "import pandas as pd\n",
        "obj = pd.Series(['c', 'a', 'd', 'a', 'a', 'b', 'b', 'c', 'c', 'a', 'b'])\n",
        "uniques = pd.factorize(obj)\n",
        "uniques"
      ],
      "execution_count": null,
      "outputs": []
    }
  ]
}